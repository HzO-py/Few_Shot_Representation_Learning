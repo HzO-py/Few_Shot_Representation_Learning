{
  "cells": [
    {
      "cell_type": "markdown",
      "metadata": {
        "id": "8iUvB5h1MoAB"
      },
      "source": [
        "Environment Setup"
      ]
    },
    {
      "cell_type": "code",
      "execution_count": 22,
      "metadata": {
        "colab": {
          "base_uri": "https://localhost:8080/"
        },
        "id": "VCYdwivQMpql",
        "outputId": "e177b28d-f9af-4847-a48e-8891cfc5208a"
      },
      "outputs": [],
      "source": [
        "# !pip install --quiet torch torchvision timm transformers scipy matplotlib\n",
        "\n",
        "import os, random\n",
        "import numpy as np\n",
        "import torch\n",
        "import torch.nn as nn\n",
        "import torch.nn.functional as F\n",
        "import torchvision.transforms as T\n",
        "from torch.utils.data import Dataset, DataLoader\n",
        "from torchvision.datasets.folder import default_loader\n",
        "from scipy.io import loadmat\n",
        "from tqdm import tqdm\n",
        "\n",
        "from matplotlib import pyplot as plt\n",
        "epoch_num=100\n",
        "patience = 10\n",
        "num_workers = 4\n",
        "\n",
        "device = torch.device(\"cuda\" if torch.cuda.is_available() else \"cpu\")"
      ]
    },
    {
      "cell_type": "markdown",
      "metadata": {
        "id": "K86W53QwM2FA"
      },
      "source": [
        "Dataset Download and Preparation"
      ]
    },
    {
      "cell_type": "code",
      "execution_count": 23,
      "metadata": {
        "colab": {
          "base_uri": "https://localhost:8080/"
        },
        "id": "4FBahMhIM4iN",
        "outputId": "ab959e5f-690c-4b75-9d38-62586e485ace"
      },
      "outputs": [
        {
          "name": "stdout",
          "output_type": "stream",
          "text": [
            "First image: jpg/image_00001.jpg Label: 77\n"
          ]
        }
      ],
      "source": [
        "# !wget -q https://www.robots.ox.ac.uk/~vgg/data/flowers/102/102flowers.tgz\n",
        "# !wget -q https://www.robots.ox.ac.uk/~vgg/data/flowers/102/imagelabels.mat\n",
        "# !wget -q https://www.robots.ox.ac.uk/~vgg/data/flowers/102/setid.mat\n",
        "\n",
        "# !tar -xzf 102flowers.tgz\n",
        "\n",
        "labels_mat = loadmat('imagelabels.mat')\n",
        "labels = labels_mat['labels'][0]\n",
        "\n",
        "split_mat = loadmat('setid.mat')\n",
        "train_idx = split_mat['trnid'][0] - 1\n",
        "val_idx   = split_mat['valid'][0] - 1\n",
        "test_idx  = split_mat['tstid'][0] - 1\n",
        "\n",
        "image_files = sorted([os.path.join('jpg', f) for f in os.listdir('jpg') if f.endswith('.jpg')])\n",
        "assert len(image_files) == len(labels)\n",
        "\n",
        "print(\"First image:\", image_files[0], \"Label:\", labels[0])"
      ]
    },
    {
      "cell_type": "markdown",
      "metadata": {
        "id": "eFqrjVxWNDNZ"
      },
      "source": [
        "We use data augmentation for SimCLR (random crops, flips, color jitter, etc.). For classification we use simple resizing and normalization. (The image mean/std are assumed ImageNet-like.)"
      ]
    },
    {
      "cell_type": "code",
      "execution_count": 24,
      "metadata": {
        "id": "n8bg-QJnNHGa"
      },
      "outputs": [],
      "source": [
        "# Transforms for SimCLR augmentations (two random views)\n",
        "simclr_transform = T.Compose([\n",
        "    T.RandomResizedCrop(224),\n",
        "    T.RandomHorizontalFlip(),\n",
        "    T.RandomApply([T.ColorJitter(0.8,0.8,0.8,0.2)], p=0.8),\n",
        "    T.RandomGrayscale(p=0.2),\n",
        "    T.ToTensor(),\n",
        "    T.Normalize([0.485,0.456,0.406], [0.229,0.224,0.225])\n",
        "])\n",
        "\n",
        "# Transforms for linear evaluation (resized center crop)\n",
        "cls_transform = T.Compose([\n",
        "    T.Resize(256),\n",
        "    T.CenterCrop(224),\n",
        "    T.ToTensor(),\n",
        "    T.Normalize([0.485,0.456,0.406], [0.229,0.224,0.225])\n",
        "])"
      ]
    },
    {
      "cell_type": "markdown",
      "metadata": {
        "id": "BtOQZ-GYNJo6"
      },
      "source": [
        "Define datasets:\n",
        "For SimCLR (unsupervised): return two augmented views of each image.\n",
        "For classification (supervised): return image tensor and label for training/testing the classifier."
      ]
    },
    {
      "cell_type": "code",
      "execution_count": 28,
      "metadata": {
        "id": "c462p5shNLIl"
      },
      "outputs": [],
      "source": [
        "class SimCLRDataset(Dataset):\n",
        "    def __init__(self, files, transform):\n",
        "        self.files = files\n",
        "        self.transform = transform\n",
        "        self.loader = default_loader\n",
        "    def __len__(self):\n",
        "        return len(self.files)\n",
        "    def __getitem__(self, idx):\n",
        "        img = self.loader(self.files[idx]).convert('RGB')\n",
        "        # Two random augmented views\n",
        "        x1 = self.transform(img)\n",
        "        x2 = self.transform(img)\n",
        "        return x1, x2\n",
        "\n",
        "class ImageLabelDataset(Dataset):\n",
        "    def __init__(self, files, labels, transform):\n",
        "        self.files = files\n",
        "        self.labels = labels\n",
        "        self.transform = transform\n",
        "        self.loader = default_loader\n",
        "    def __len__(self):\n",
        "        return len(self.files)\n",
        "    def __getitem__(self, idx):\n",
        "        img = self.loader(self.files[idx]).convert('RGB')\n",
        "        img = self.transform(img)\n",
        "        label = int(self.labels[idx] - 1)  # 0-index classes\n",
        "        return img, label\n",
        "\n",
        "# Prepare datasets\n",
        "# Use all images for unsupervised SimCLR\n",
        "simclr_dataset = SimCLRDataset(image_files, simclr_transform)\n",
        "# For evaluation, use train/val as training data (combined) and test for testing\n",
        "train_files = [image_files[i] for i in np.concatenate([train_idx, val_idx])]\n",
        "train_labels = [labels[i] for i in np.concatenate([train_idx, val_idx])]\n",
        "test_files = [image_files[i] for i in test_idx]\n",
        "test_labels = [labels[i] for i in test_idx]\n",
        "\n",
        "train_dataset = ImageLabelDataset(train_files, train_labels, cls_transform)\n",
        "test_dataset  = ImageLabelDataset(test_files, test_labels, cls_transform)"
      ]
    },
    {
      "cell_type": "markdown",
      "metadata": {
        "id": "HsDBo9RFNOc3"
      },
      "source": [
        "1. Contrastive Learning (SimCLR)"
      ]
    },
    {
      "cell_type": "code",
      "execution_count": 5,
      "metadata": {
        "colab": {
          "base_uri": "https://localhost:8080/",
          "height": 211
        },
        "id": "GEVHutAMNS45",
        "outputId": "27cc4bc0-44ac-4367-eb4c-d1b407858ece"
      },
      "outputs": [
        {
          "name": "stderr",
          "output_type": "stream",
          "text": [
            "/home/lzqhzo/miniconda3/envs/torch/lib/python3.10/site-packages/torchvision/models/_utils.py:208: UserWarning: The parameter 'pretrained' is deprecated since 0.13 and may be removed in the future, please use 'weights' instead.\n",
            "  warnings.warn(\n",
            "/home/lzqhzo/miniconda3/envs/torch/lib/python3.10/site-packages/torchvision/models/_utils.py:223: UserWarning: Arguments other than a weight enum or `None` for 'weights' are deprecated since 0.13 and may be removed in the future. The current behavior is equivalent to passing `weights=ResNet18_Weights.IMAGENET1K_V1`. You can also use `weights=ResNet18_Weights.DEFAULT` to get the most up-to-date weights.\n",
            "  warnings.warn(msg)\n",
            "Downloading: \"https://download.pytorch.org/models/resnet18-f37072fd.pth\" to /home/lzqhzo/.cache/torch/hub/checkpoints/resnet18-f37072fd.pth\n",
            "100%|██████████| 44.7M/44.7M [00:15<00:00, 3.06MB/s]\n"
          ]
        }
      ],
      "source": [
        "# Define SimCLR model: ResNet-18 encoder + MLP projection head\n",
        "import torchvision.models as models\n",
        "\n",
        "class SimCLR(nn.Module):\n",
        "    def __init__(self, base_encoder, dim=128):\n",
        "        super().__init__()\n",
        "        # Remove the original fully connected layer\n",
        "        self.encoder = base_encoder\n",
        "        self.encoder.fc = nn.Identity()\n",
        "        feat_dim = 512  # output dimension of ResNet-18\n",
        "        # Projection head\n",
        "        self.projector = nn.Sequential(\n",
        "            nn.Linear(feat_dim, feat_dim),\n",
        "            nn.ReLU(),\n",
        "            nn.Linear(feat_dim, dim)\n",
        "        )\n",
        "    def forward(self, x):\n",
        "        h = self.encoder(x)         # features (batch x 512)\n",
        "        z = self.projector(h)       # projection (batch x dim)\n",
        "        return h, z\n",
        "\n",
        "# Instantiate model\n",
        "base_resnet = models.resnet18(pretrained=True)\n",
        "simclr_model = SimCLR(base_resnet, dim=128).to(device)"
      ]
    },
    {
      "cell_type": "markdown",
      "metadata": {
        "id": "bnVEMdYfNVjA"
      },
      "source": [
        "Train using the NT-Xent loss. We concatenate the two views in the batch and compute a 2N×2N similarity matrix. The positive pair for image i is the other view of the same image. We use CrossEntropyLoss by masking out self-similarity and setting the target of each example to its positive pair index. Temperature is set to 0.5."
      ]
    },
    {
      "cell_type": "code",
      "execution_count": null,
      "metadata": {
        "colab": {
          "base_uri": "https://localhost:8080/"
        },
        "id": "ANbGBCIlNaKr",
        "outputId": "d696b57c-2538-4878-a9fe-30bd29b57971"
      },
      "outputs": [
        {
          "name": "stderr",
          "output_type": "stream",
          "text": [
            "                                                               \r"
          ]
        },
        {
          "name": "stdout",
          "output_type": "stream",
          "text": [
            "Epoch 001  Train Contrastive Loss: 4.5440\n"
          ]
        },
        {
          "name": "stderr",
          "output_type": "stream",
          "text": [
            "                                                               \r"
          ]
        },
        {
          "name": "stdout",
          "output_type": "stream",
          "text": [
            "Epoch 002  Train Contrastive Loss: 4.5424\n"
          ]
        },
        {
          "name": "stderr",
          "output_type": "stream",
          "text": [
            "                                                               \r"
          ]
        },
        {
          "name": "stdout",
          "output_type": "stream",
          "text": [
            "Epoch 003  Train Contrastive Loss: 4.5356\n"
          ]
        },
        {
          "name": "stderr",
          "output_type": "stream",
          "text": [
            "                                                               \r"
          ]
        },
        {
          "name": "stdout",
          "output_type": "stream",
          "text": [
            "Epoch 004  Train Contrastive Loss: 4.5376\n"
          ]
        },
        {
          "name": "stderr",
          "output_type": "stream",
          "text": [
            "                                                               \r"
          ]
        },
        {
          "name": "stdout",
          "output_type": "stream",
          "text": [
            "Epoch 005  Train Contrastive Loss: 4.5428\n"
          ]
        },
        {
          "name": "stderr",
          "output_type": "stream",
          "text": [
            "                                                               \r"
          ]
        },
        {
          "name": "stdout",
          "output_type": "stream",
          "text": [
            "Epoch 006  Train Contrastive Loss: 4.5383\n"
          ]
        },
        {
          "name": "stderr",
          "output_type": "stream",
          "text": [
            "                                                               \r"
          ]
        },
        {
          "name": "stdout",
          "output_type": "stream",
          "text": [
            "Epoch 007  Train Contrastive Loss: 4.5379\n"
          ]
        },
        {
          "name": "stderr",
          "output_type": "stream",
          "text": [
            "                                                               \r"
          ]
        },
        {
          "name": "stdout",
          "output_type": "stream",
          "text": [
            "Epoch 008  Train Contrastive Loss: 4.5347\n"
          ]
        },
        {
          "name": "stderr",
          "output_type": "stream",
          "text": [
            "                                                               \r"
          ]
        },
        {
          "name": "stdout",
          "output_type": "stream",
          "text": [
            "Epoch 009  Train Contrastive Loss: 4.5390\n"
          ]
        },
        {
          "name": "stderr",
          "output_type": "stream",
          "text": [
            "                                                                \r"
          ]
        },
        {
          "name": "stdout",
          "output_type": "stream",
          "text": [
            "Epoch 010  Train Contrastive Loss: 4.5298\n"
          ]
        },
        {
          "name": "stderr",
          "output_type": "stream",
          "text": [
            "                                                                \r"
          ]
        },
        {
          "name": "stdout",
          "output_type": "stream",
          "text": [
            "Epoch 011  Train Contrastive Loss: 4.5273\n"
          ]
        },
        {
          "name": "stderr",
          "output_type": "stream",
          "text": [
            "                                                                \r"
          ]
        },
        {
          "name": "stdout",
          "output_type": "stream",
          "text": [
            "Epoch 012  Train Contrastive Loss: 4.5340\n"
          ]
        },
        {
          "name": "stderr",
          "output_type": "stream",
          "text": [
            "                                                                \r"
          ]
        },
        {
          "name": "stdout",
          "output_type": "stream",
          "text": [
            "Epoch 013  Train Contrastive Loss: 4.5287\n"
          ]
        },
        {
          "name": "stderr",
          "output_type": "stream",
          "text": [
            "                                                                \r"
          ]
        },
        {
          "name": "stdout",
          "output_type": "stream",
          "text": [
            "Epoch 014  Train Contrastive Loss: 4.5313\n"
          ]
        },
        {
          "name": "stderr",
          "output_type": "stream",
          "text": [
            "                                                                \r"
          ]
        },
        {
          "name": "stdout",
          "output_type": "stream",
          "text": [
            "Epoch 015  Train Contrastive Loss: 4.5296\n"
          ]
        },
        {
          "name": "stderr",
          "output_type": "stream",
          "text": [
            "                                                                \r"
          ]
        },
        {
          "name": "stdout",
          "output_type": "stream",
          "text": [
            "Epoch 016  Train Contrastive Loss: 4.5279\n"
          ]
        },
        {
          "name": "stderr",
          "output_type": "stream",
          "text": [
            "                                                                \r"
          ]
        },
        {
          "name": "stdout",
          "output_type": "stream",
          "text": [
            "Epoch 017  Train Contrastive Loss: 4.5247\n"
          ]
        },
        {
          "name": "stderr",
          "output_type": "stream",
          "text": [
            "                                                                \r"
          ]
        },
        {
          "name": "stdout",
          "output_type": "stream",
          "text": [
            "Epoch 018  Train Contrastive Loss: 4.5286\n"
          ]
        },
        {
          "name": "stderr",
          "output_type": "stream",
          "text": [
            "                                                                \r"
          ]
        },
        {
          "name": "stdout",
          "output_type": "stream",
          "text": [
            "Epoch 019  Train Contrastive Loss: 4.5266\n"
          ]
        },
        {
          "name": "stderr",
          "output_type": "stream",
          "text": [
            "                                                                \r"
          ]
        },
        {
          "name": "stdout",
          "output_type": "stream",
          "text": [
            "Epoch 020  Train Contrastive Loss: 4.5282\n"
          ]
        },
        {
          "name": "stderr",
          "output_type": "stream",
          "text": [
            "                                                                \r"
          ]
        },
        {
          "name": "stdout",
          "output_type": "stream",
          "text": [
            "Epoch 021  Train Contrastive Loss: 4.5259\n"
          ]
        },
        {
          "name": "stderr",
          "output_type": "stream",
          "text": [
            "                                                                \r"
          ]
        },
        {
          "name": "stdout",
          "output_type": "stream",
          "text": [
            "Epoch 022  Train Contrastive Loss: 4.5268\n"
          ]
        },
        {
          "name": "stderr",
          "output_type": "stream",
          "text": [
            "                                                                \r"
          ]
        },
        {
          "name": "stdout",
          "output_type": "stream",
          "text": [
            "Epoch 023  Train Contrastive Loss: 4.5270\n"
          ]
        },
        {
          "name": "stderr",
          "output_type": "stream",
          "text": [
            "                                                                \r"
          ]
        },
        {
          "name": "stdout",
          "output_type": "stream",
          "text": [
            "Epoch 024  Train Contrastive Loss: 4.5249\n"
          ]
        },
        {
          "name": "stderr",
          "output_type": "stream",
          "text": [
            "                                                                \r"
          ]
        },
        {
          "name": "stdout",
          "output_type": "stream",
          "text": [
            "Epoch 025  Train Contrastive Loss: 4.5230\n"
          ]
        },
        {
          "name": "stderr",
          "output_type": "stream",
          "text": [
            "                                                                \r"
          ]
        },
        {
          "name": "stdout",
          "output_type": "stream",
          "text": [
            "Epoch 026  Train Contrastive Loss: 4.5255\n"
          ]
        },
        {
          "name": "stderr",
          "output_type": "stream",
          "text": [
            "                                                                \r"
          ]
        },
        {
          "name": "stdout",
          "output_type": "stream",
          "text": [
            "Epoch 027  Train Contrastive Loss: 4.5290\n"
          ]
        },
        {
          "name": "stderr",
          "output_type": "stream",
          "text": [
            "                                                                \r"
          ]
        },
        {
          "name": "stdout",
          "output_type": "stream",
          "text": [
            "Epoch 028  Train Contrastive Loss: 4.5194\n"
          ]
        },
        {
          "name": "stderr",
          "output_type": "stream",
          "text": [
            "                                                                \r"
          ]
        },
        {
          "name": "stdout",
          "output_type": "stream",
          "text": [
            "Epoch 029  Train Contrastive Loss: 4.5229\n"
          ]
        },
        {
          "name": "stderr",
          "output_type": "stream",
          "text": [
            "                                                                \r"
          ]
        },
        {
          "name": "stdout",
          "output_type": "stream",
          "text": [
            "Epoch 030  Train Contrastive Loss: 4.5197\n"
          ]
        },
        {
          "name": "stderr",
          "output_type": "stream",
          "text": [
            "                                                                \r"
          ]
        },
        {
          "name": "stdout",
          "output_type": "stream",
          "text": [
            "Epoch 031  Train Contrastive Loss: 4.5160\n"
          ]
        },
        {
          "name": "stderr",
          "output_type": "stream",
          "text": [
            "                                                                \r"
          ]
        },
        {
          "name": "stdout",
          "output_type": "stream",
          "text": [
            "Epoch 032  Train Contrastive Loss: 4.5203\n"
          ]
        },
        {
          "name": "stderr",
          "output_type": "stream",
          "text": [
            "                                                                \r"
          ]
        },
        {
          "name": "stdout",
          "output_type": "stream",
          "text": [
            "Epoch 033  Train Contrastive Loss: 4.5148\n"
          ]
        },
        {
          "name": "stderr",
          "output_type": "stream",
          "text": [
            "                                                                \r"
          ]
        },
        {
          "name": "stdout",
          "output_type": "stream",
          "text": [
            "Epoch 034  Train Contrastive Loss: 4.5140\n"
          ]
        },
        {
          "name": "stderr",
          "output_type": "stream",
          "text": [
            "                                                                \r"
          ]
        },
        {
          "name": "stdout",
          "output_type": "stream",
          "text": [
            "Epoch 035  Train Contrastive Loss: 4.5190\n"
          ]
        },
        {
          "name": "stderr",
          "output_type": "stream",
          "text": [
            "                                                                \r"
          ]
        },
        {
          "name": "stdout",
          "output_type": "stream",
          "text": [
            "Epoch 036  Train Contrastive Loss: 4.5185\n"
          ]
        },
        {
          "name": "stderr",
          "output_type": "stream",
          "text": [
            "                                                                \r"
          ]
        },
        {
          "name": "stdout",
          "output_type": "stream",
          "text": [
            "Epoch 037  Train Contrastive Loss: 4.5209\n"
          ]
        },
        {
          "name": "stderr",
          "output_type": "stream",
          "text": [
            "                                                                \r"
          ]
        },
        {
          "name": "stdout",
          "output_type": "stream",
          "text": [
            "Epoch 038  Train Contrastive Loss: 4.5226\n"
          ]
        },
        {
          "name": "stderr",
          "output_type": "stream",
          "text": [
            "                                                                \r"
          ]
        },
        {
          "name": "stdout",
          "output_type": "stream",
          "text": [
            "Epoch 039  Train Contrastive Loss: 4.5194\n"
          ]
        },
        {
          "name": "stderr",
          "output_type": "stream",
          "text": [
            "                                                                \r"
          ]
        },
        {
          "name": "stdout",
          "output_type": "stream",
          "text": [
            "Epoch 040  Train Contrastive Loss: 4.5206\n"
          ]
        },
        {
          "name": "stderr",
          "output_type": "stream",
          "text": [
            "                                                                \r"
          ]
        },
        {
          "name": "stdout",
          "output_type": "stream",
          "text": [
            "Epoch 041  Train Contrastive Loss: 4.5147\n"
          ]
        },
        {
          "name": "stderr",
          "output_type": "stream",
          "text": [
            "                                                                \r"
          ]
        },
        {
          "name": "stdout",
          "output_type": "stream",
          "text": [
            "Epoch 042  Train Contrastive Loss: 4.5182\n"
          ]
        },
        {
          "name": "stderr",
          "output_type": "stream",
          "text": [
            "                                                                \r"
          ]
        },
        {
          "name": "stdout",
          "output_type": "stream",
          "text": [
            "Epoch 043  Train Contrastive Loss: 4.5147\n"
          ]
        },
        {
          "name": "stderr",
          "output_type": "stream",
          "text": [
            "                                                                \r"
          ]
        },
        {
          "name": "stdout",
          "output_type": "stream",
          "text": [
            "Epoch 044  Train Contrastive Loss: 4.5199\n",
            "Early stopping at epoch 44 (no improvement in last 10 epochs).\n",
            "=== Best train loss 4.5140 at epoch 34 ===\n"
          ]
        },
        {
          "data": {
            "image/png": "[encoded data removed]",
            "text/plain": [
              "<Figure size 600x400 with 1 Axes>"
            ]
          },
          "metadata": {},
          "output_type": "display_data"
        }
      ],
      "source": [
        "# NT-Xent contrastive loss function\n",
        "\n",
        "criterion_contrastive = nn.CrossEntropyLoss()\n",
        "temperature = 0.5\n",
        "\n",
        "def nt_xent_loss(z1, z2, temperature=0.5):\n",
        "    \"\"\"\n",
        "    Compute NT-Xent loss between two sets of embeddings z1, z2 (of size N x dim).\n",
        "    \"\"\"\n",
        "    N = z1.shape[0]\n",
        "    z = torch.cat([z1, z2], dim=0)          # 2N x dim\n",
        "    z = F.normalize(z, dim=1)              # normalize embeddings\n",
        "    sim = torch.matmul(z, z.T)             # similarity matrix (2N x 2N)\n",
        "    # Mask out self-similarity\n",
        "    mask = torch.eye(2*N, dtype=torch.bool, device=device)\n",
        "    sim.masked_fill_(mask, -1e9)\n",
        "    # Similarity scaled by temperature\n",
        "    sim = sim / temperature\n",
        "    # Targets: for i in [0,N), positive index is i+N; for i in [N,2N), positive is i-N\n",
        "    targets = torch.cat([torch.arange(N, 2*N), torch.arange(0, N)]).long().to(device)\n",
        "    loss = criterion_contrastive(sim, targets)\n",
        "    return loss\n",
        "\n",
        "# DataLoader for SimCLR (unsupervised)\n",
        "simclr_loader = DataLoader(simclr_dataset, batch_size=256, shuffle=True, num_workers=num_workers)\n",
        "\n",
        "# Optimizer\n",
        "optimizer = torch.optim.Adam(simclr_model.parameters(), lr=1e-4)\n",
        "\n",
        "\n",
        "# Train SimCLR with early stopping\n",
        "simclr_model.train()\n",
        "best_loss = float('inf')      \n",
        "best_epoch = -1\n",
        "best_state = None\n",
        "counter = 0\n",
        "\n",
        "train_losses = []              \n",
        "\n",
        "for epoch in range(1, epoch_num + 1):\n",
        "    running_loss = 0.0\n",
        "    # Training\n",
        "    for (x1, x2) in tqdm(simclr_loader, desc=f\"SimCLR Epoch {epoch}\", leave=False):\n",
        "        x1, x2 = x1.to(device), x2.to(device)\n",
        "        _, z1 = simclr_model(x1)\n",
        "        _, z2 = simclr_model(x2)\n",
        "        loss = nt_xent_loss(z1, z2, temperature)\n",
        "\n",
        "        optimizer.zero_grad()\n",
        "        loss.backward()\n",
        "        optimizer.step()\n",
        "\n",
        "        running_loss += loss.item() * x1.size(0)\n",
        "\n",
        "    avg_loss = running_loss / len(simclr_dataset)\n",
        "    train_losses.append(avg_loss)\n",
        "    print(f\"Epoch {epoch:03d}  Train Contrastive Loss: {avg_loss:.4f}\")\n",
        "\n",
        "    # save the best model\n",
        "    if avg_loss < best_loss:\n",
        "        best_loss = avg_loss\n",
        "        best_epoch = epoch\n",
        "        best_state = {k: v.cpu().clone() for k, v in simclr_model.state_dict().items()}\n",
        "        counter = 0\n",
        "    else:\n",
        "        counter += 1\n",
        "        # if the loss doesn't drop for 10 continuous epoches, early stopping\n",
        "        if counter >= patience:\n",
        "            print(f\"Early stopping at epoch {epoch} (no improvement in last {patience} epochs).\")\n",
        "            break\n",
        "\n",
        "print(f\"=== Best train loss {best_loss:.4f} at epoch {best_epoch} ===\")\n",
        "\n",
        "if best_state is not None:\n",
        "    simclr_model.load_state_dict(best_state)\n",
        "\n",
        "# plot losses\n",
        "plt.figure(figsize=(6,4))\n",
        "plt.plot(range(1, len(train_losses)+1), train_losses, marker='o')\n",
        "plt.axvline(best_epoch, color='r', linestyle='--', label=f\"Best Epoch (#{best_epoch})\")\n",
        "plt.xlabel('Epoch')\n",
        "plt.ylabel('Train Loss')\n",
        "plt.title('SimCLR Training Loss with Early Stopping')\n",
        "plt.legend()\n",
        "plt.tight_layout()\n",
        "plt.show()"
      ]
    },
    {
      "cell_type": "markdown",
      "metadata": {
        "id": "RRmNhL8ZNcu0"
      },
      "source": [
        "Once trained, we discard the projection head and keep the encoder (ResNet18) as the feature extractor. We now freeze the encoder and train a linear classifier on top (single-layer and a small 2-layer MLP) to evaluate the quality of the learned features. This is a common linear-probe evaluation. We use the frozen encoder to extract features and train on the 1020 training images."
      ]
    },
    {
      "cell_type": "code",
      "execution_count": 29,
      "metadata": {
        "colab": {
          "base_uri": "https://localhost:8080/",
          "height": 211
        },
        "id": "lV6reETGNf7R",
        "outputId": "d471a9ef-eeee-4feb-d7ee-eff50feef850"
      },
      "outputs": [],
      "source": [
        "# Linear and MLP classifiers on top of frozen ResNet features\n",
        "class LinearClassifier(nn.Module):\n",
        "    def __init__(self, feat_dim=512, num_classes=102):\n",
        "        super().__init__()\n",
        "        self.fc = nn.Linear(feat_dim, num_classes)\n",
        "    def forward(self, x): return self.fc(x)\n",
        "\n",
        "class MLPClassifier(nn.Module):\n",
        "    def __init__(self, feat_dim=512, num_classes=102):\n",
        "        super().__init__()\n",
        "        self.net = nn.Sequential(\n",
        "            nn.Linear(feat_dim, 256),\n",
        "            nn.ReLU(),\n",
        "            nn.Linear(256, num_classes)\n",
        "        )\n",
        "    def forward(self, x): return self.net(x)\n",
        "\n",
        "# Feature extractor: output of encoder avgpool\n",
        "def extract_resnet_features(model, images):\n",
        "    # The SimCLR model's forward returns (features, projection). We only need features.\n",
        "    h, _ = model(images)  # Call the SimCLR model's forward method\n",
        "    return h\n",
        "\n",
        "# # Prepare dataloaders for classification\n",
        "train_loader = DataLoader(train_dataset, batch_size=64, shuffle=True, num_workers=num_workers)\n",
        "test_loader  = DataLoader(test_dataset,  batch_size=64, shuffle=False, num_workers=num_workers)"
      ]
    },
    {
      "cell_type": "code",
      "execution_count": null,
      "metadata": {
        "colab": {
          "base_uri": "https://localhost:8080/"
        },
        "id": "Ae21TWPoNiof",
        "outputId": "44e4e1c9-552a-4a03-e5b0-485bf5d014fc"
      },
      "outputs": [
        {
          "name": "stdout",
          "output_type": "stream",
          "text": [
            "Epoch [1/100]  Train Loss: 2.7909  |  Val Acc: 0.7657\n",
            "Epoch [2/100]  Train Loss: 0.9448  |  Val Acc: 0.8486\n",
            "Epoch [3/100]  Train Loss: 0.6409  |  Val Acc: 0.8735\n",
            "Epoch [4/100]  Train Loss: 0.5132  |  Val Acc: 0.8759\n",
            "Epoch [5/100]  Train Loss: 0.4285  |  Val Acc: 0.8919\n",
            "Epoch [6/100]  Train Loss: 0.3725  |  Val Acc: 0.8920\n",
            "Epoch [7/100]  Train Loss: 0.3270  |  Val Acc: 0.8985\n",
            "Epoch [8/100]  Train Loss: 0.2880  |  Val Acc: 0.8956\n",
            "Epoch [9/100]  Train Loss: 0.2585  |  Val Acc: 0.9008\n",
            "Epoch [10/100]  Train Loss: 0.2380  |  Val Acc: 0.9018\n",
            "Epoch [11/100]  Train Loss: 0.2127  |  Val Acc: 0.9018\n",
            "Epoch [12/100]  Train Loss: 0.1966  |  Val Acc: 0.9008\n",
            "Epoch [13/100]  Train Loss: 0.1797  |  Val Acc: 0.9071\n",
            "Epoch [14/100]  Train Loss: 0.1673  |  Val Acc: 0.9026\n",
            "Epoch [15/100]  Train Loss: 0.1566  |  Val Acc: 0.9036\n",
            "Epoch [16/100]  Train Loss: 0.1404  |  Val Acc: 0.9086\n",
            "Epoch [17/100]  Train Loss: 0.1345  |  Val Acc: 0.9071\n",
            "Epoch [18/100]  Train Loss: 0.1236  |  Val Acc: 0.9071\n",
            "Epoch [19/100]  Train Loss: 0.1166  |  Val Acc: 0.9096\n",
            "Epoch [20/100]  Train Loss: 0.1106  |  Val Acc: 0.9063\n",
            "Epoch [21/100]  Train Loss: 0.1022  |  Val Acc: 0.9078\n",
            "Epoch [22/100]  Train Loss: 0.0954  |  Val Acc: 0.9084\n",
            "Epoch [23/100]  Train Loss: 0.0912  |  Val Acc: 0.9089\n",
            "Epoch [24/100]  Train Loss: 0.0835  |  Val Acc: 0.9068\n",
            "Epoch [25/100]  Train Loss: 0.0798  |  Val Acc: 0.9091\n",
            "Epoch [26/100]  Train Loss: 0.0761  |  Val Acc: 0.9106\n",
            "Epoch [27/100]  Train Loss: 0.0712  |  Val Acc: 0.9114\n",
            "Epoch [28/100]  Train Loss: 0.0682  |  Val Acc: 0.9114\n",
            "Epoch [29/100]  Train Loss: 0.0640  |  Val Acc: 0.9120\n",
            "Epoch [30/100]  Train Loss: 0.0619  |  Val Acc: 0.9091\n",
            "Epoch [31/100]  Train Loss: 0.0587  |  Val Acc: 0.9112\n",
            "Epoch [32/100]  Train Loss: 0.0548  |  Val Acc: 0.9101\n",
            "Epoch [33/100]  Train Loss: 0.0527  |  Val Acc: 0.9086\n",
            "Epoch [34/100]  Train Loss: 0.0507  |  Val Acc: 0.9128\n",
            "Epoch [35/100]  Train Loss: 0.0480  |  Val Acc: 0.9132\n",
            "Epoch [36/100]  Train Loss: 0.0463  |  Val Acc: 0.9102\n",
            "Epoch [37/100]  Train Loss: 0.0452  |  Val Acc: 0.9081\n",
            "Epoch [38/100]  Train Loss: 0.0426  |  Val Acc: 0.9136\n",
            "Epoch [39/100]  Train Loss: 0.0406  |  Val Acc: 0.9110\n",
            "Epoch [40/100]  Train Loss: 0.0388  |  Val Acc: 0.9123\n",
            "Epoch [41/100]  Train Loss: 0.0370  |  Val Acc: 0.9106\n",
            "Epoch [42/100]  Train Loss: 0.0358  |  Val Acc: 0.9143\n",
            "Epoch [43/100]  Train Loss: 0.0341  |  Val Acc: 0.9122\n",
            "Epoch [44/100]  Train Loss: 0.0328  |  Val Acc: 0.9120\n",
            "Epoch [45/100]  Train Loss: 0.0318  |  Val Acc: 0.9133\n",
            "Epoch [46/100]  Train Loss: 0.0306  |  Val Acc: 0.9122\n",
            "Epoch [47/100]  Train Loss: 0.0295  |  Val Acc: 0.9127\n",
            "Epoch [48/100]  Train Loss: 0.0285  |  Val Acc: 0.9110\n",
            "Epoch [49/100]  Train Loss: 0.0281  |  Val Acc: 0.9122\n",
            "Epoch [50/100]  Train Loss: 0.0266  |  Val Acc: 0.9135\n",
            "Epoch [51/100]  Train Loss: 0.0257  |  Val Acc: 0.9119\n",
            "Epoch [52/100]  Train Loss: 0.0248  |  Val Acc: 0.9117\n",
            "Early stopping at epoch 52 (no improvement in last 10 epochs).\n",
            "=== Best Val Acc: 0.9143 at epoch 42 ===\n",
            "Epoch [1/100]  Train Loss: 2.8270  |  Val Acc: 0.7585\n",
            "Epoch [2/100]  Train Loss: 0.9357  |  Val Acc: 0.8032\n",
            "Epoch [3/100]  Train Loss: 0.6151  |  Val Acc: 0.8348\n",
            "Epoch [4/100]  Train Loss: 0.4676  |  Val Acc: 0.8584\n",
            "Epoch [5/100]  Train Loss: 0.3879  |  Val Acc: 0.8463\n",
            "Epoch [6/100]  Train Loss: 0.3450  |  Val Acc: 0.8710\n",
            "Epoch [7/100]  Train Loss: 0.2777  |  Val Acc: 0.8683\n",
            "Epoch [8/100]  Train Loss: 0.2582  |  Val Acc: 0.8793\n",
            "Epoch [9/100]  Train Loss: 0.2037  |  Val Acc: 0.8871\n",
            "Epoch [10/100]  Train Loss: 0.1886  |  Val Acc: 0.8718\n",
            "Epoch [11/100]  Train Loss: 0.1680  |  Val Acc: 0.8881\n",
            "Epoch [12/100]  Train Loss: 0.1427  |  Val Acc: 0.8907\n",
            "Epoch [13/100]  Train Loss: 0.1362  |  Val Acc: 0.8984\n",
            "Epoch [14/100]  Train Loss: 0.1098  |  Val Acc: 0.8979\n",
            "Epoch [15/100]  Train Loss: 0.1006  |  Val Acc: 0.8889\n",
            "Epoch [16/100]  Train Loss: 0.1005  |  Val Acc: 0.8888\n",
            "Epoch [17/100]  Train Loss: 0.0803  |  Val Acc: 0.8941\n",
            "Epoch [18/100]  Train Loss: 0.0665  |  Val Acc: 0.8933\n",
            "Epoch [19/100]  Train Loss: 0.0532  |  Val Acc: 0.9029\n",
            "Epoch [20/100]  Train Loss: 0.0510  |  Val Acc: 0.9008\n",
            "Epoch [21/100]  Train Loss: 0.0440  |  Val Acc: 0.9032\n",
            "Epoch [22/100]  Train Loss: 0.0407  |  Val Acc: 0.8945\n",
            "Epoch [23/100]  Train Loss: 0.0465  |  Val Acc: 0.8975\n",
            "Epoch [24/100]  Train Loss: 0.0371  |  Val Acc: 0.8961\n",
            "Epoch [25/100]  Train Loss: 0.0295  |  Val Acc: 0.9037\n",
            "Epoch [26/100]  Train Loss: 0.0270  |  Val Acc: 0.9058\n",
            "Epoch [27/100]  Train Loss: 0.0216  |  Val Acc: 0.9058\n",
            "Epoch [28/100]  Train Loss: 0.0186  |  Val Acc: 0.9036\n",
            "Epoch [29/100]  Train Loss: 0.0181  |  Val Acc: 0.9024\n",
            "Epoch [30/100]  Train Loss: 0.0171  |  Val Acc: 0.9044\n",
            "Epoch [31/100]  Train Loss: 0.0156  |  Val Acc: 0.9016\n",
            "Epoch [32/100]  Train Loss: 0.0147  |  Val Acc: 0.9052\n",
            "Epoch [33/100]  Train Loss: 0.0142  |  Val Acc: 0.9040\n",
            "Epoch [34/100]  Train Loss: 0.0251  |  Val Acc: 0.8992\n",
            "Epoch [35/100]  Train Loss: 0.0173  |  Val Acc: 0.9057\n",
            "Epoch [36/100]  Train Loss: 0.0160  |  Val Acc: 0.9016\n",
            "Early stopping at epoch 36 (no improvement in last 10 epochs).\n",
            "=== Best Val Acc: 0.9058 at epoch 26 ===\n"
          ]
        }
      ],
      "source": [
        "# Train and evaluate a linear classifier on SimCLR features\n",
        "def train_classifier(encoder, classifier, train_loader, test_loader, epochs=100):\n",
        "    device = next(encoder.parameters()).device \n",
        "    classifier = classifier.to(device)\n",
        "\n",
        "    # frozen the entire simclr_model\n",
        "    encoder.eval()\n",
        "    for param in encoder.parameters():\n",
        "        param.requires_grad = False\n",
        "\n",
        "    optimizer = torch.optim.Adam(classifier.parameters(), lr=1e-3)\n",
        "    criterion = nn.CrossEntropyLoss()\n",
        "\n",
        "    train_losses = []\n",
        "    val_accuracies = []\n",
        "\n",
        "    best_val_acc = 0.0\n",
        "    best_epoch = -1\n",
        "    best_state_dict = None\n",
        "    counter = 0 \n",
        "\n",
        "    for epoch in range(1, epochs + 1):\n",
        "        # Training\n",
        "        classifier.train()\n",
        "        running_loss = 0.0\n",
        "        running_total = 0\n",
        "\n",
        "        for imgs, labs in train_loader:\n",
        "            imgs = imgs.to(device)\n",
        "            labs = labs.to(device)\n",
        "\n",
        "            with torch.no_grad():\n",
        "                feat_proj = encoder(imgs)\n",
        "                feats = feat_proj[0]\n",
        "\n",
        "            logits = classifier(feats)\n",
        "            loss = criterion(logits, labs)\n",
        "\n",
        "            optimizer.zero_grad()\n",
        "            loss.backward()\n",
        "            optimizer.step()\n",
        "\n",
        "            running_loss += loss.item() * labs.size(0)\n",
        "            running_total += labs.size(0)\n",
        "\n",
        "        avg_train_loss = running_loss / running_total\n",
        "        train_losses.append(avg_train_loss)\n",
        "\n",
        "        # Validating\n",
        "        classifier.eval()\n",
        "        correct = 0\n",
        "        total = 0\n",
        "\n",
        "        with torch.no_grad():\n",
        "            for imgs, labs in test_loader:\n",
        "                imgs = imgs.to(device)\n",
        "                labs = labs.to(device)\n",
        "\n",
        "                feat_proj = encoder(imgs)\n",
        "                feats = feat_proj[0]\n",
        "\n",
        "                preds = classifier(feats).argmax(dim=1)\n",
        "                correct += (preds == labs).sum().item()\n",
        "                total += labs.size(0)\n",
        "\n",
        "        val_acc = correct / total\n",
        "        val_accuracies.append(val_acc)\n",
        "\n",
        "        print(f\"Epoch [{epoch}/{epochs}]  Train Loss: {avg_train_loss:.4f}  |  Val Acc: {val_acc:.4f}\")\n",
        "\n",
        "        # save the best model in validating\n",
        "        if val_acc > best_val_acc:\n",
        "            best_val_acc = val_acc\n",
        "            best_epoch = epoch\n",
        "            best_state_dict = {k: v.cpu().clone() for k, v in classifier.state_dict().items()}\n",
        "            counter = 0\n",
        "        else:\n",
        "            counter += 1\n",
        "            # if the loss doesn't drop for 10 continuous epoches, early stopping\n",
        "            if counter >= patience:\n",
        "                print(f\"Early stopping at epoch {epoch} (no improvement in last {patience} epochs).\")\n",
        "                break\n",
        "\n",
        "    print(f\"=== Best Val Acc: {best_val_acc:.4f} at epoch {best_epoch} ===\")\n",
        "    return train_losses, val_accuracies, best_epoch, best_state_dict\n",
        "\n",
        "# Linear probe\n",
        "linear_cls = LinearClassifier(feat_dim=512, num_classes=102)\n",
        "train_losses_lin, val_accuracies_lin, best_epoch_lin, best_state_dict_lin = train_classifier(simclr_model, linear_cls, train_loader, test_loader, epochs=epoch_num)\n",
        "\n",
        "\n",
        "# MLP probe\n",
        "mlp_cls = MLPClassifier(feat_dim=512, num_classes=102)\n",
        "train_losses_mlp, val_accuracies_mlp, best_epoch_mlp, best_state_dict_mlp = train_classifier(simclr_model, mlp_cls, train_loader, test_loader, epochs=epoch_num)\n"
      ]
    },
    {
      "cell_type": "code",
      "execution_count": 18,
      "metadata": {},
      "outputs": [
        {
          "name": "stdout",
          "output_type": "stream",
          "text": [
            "SimCLR Linear probe accuracy: 91.2%\n",
            "SimCLR MLP classifier accuracy: 90.6%\n"
          ]
        },
        {
          "data": {
            "image/png": "[encoded data removed]",
            "text/plain": [
              "<Figure size 1200x500 with 2 Axes>"
            ]
          },
          "metadata": {},
          "output_type": "display_data"
        },
        {
          "data": {
            "image/png": "[encoded data removed]",
            "text/plain": [
              "<Figure size 1200x500 with 2 Axes>"
            ]
          },
          "metadata": {},
          "output_type": "display_data"
        }
      ],
      "source": [
        "print(f\"SimCLR Linear probe accuracy: {val_accuracies_lin[best_epoch_lin]*100:.1f}%\")\n",
        "print(f\"SimCLR MLP classifier accuracy: {val_accuracies_mlp[best_epoch_mlp]*100:.1f}%\")\n",
        "\n",
        "epochs_lin = range(1, len(train_losses_lin) + 1)\n",
        "epochs_mlp = range(1, len(train_losses_mlp) + 1)\n",
        "\n",
        "# Linear Probing\n",
        "plt.figure(figsize=(12, 5))\n",
        "plt.subplot(1, 2, 1)\n",
        "plt.plot(epochs_lin, train_losses_lin, marker='o', label='Train Loss')\n",
        "plt.axvline(best_epoch_lin, color='r', linestyle='--')\n",
        "plt.xlabel('Epoch')\n",
        "plt.ylabel('Loss')\n",
        "plt.title('Linear Probe Training Loss')\n",
        "plt.legend()\n",
        "\n",
        "plt.subplot(1, 2, 2)\n",
        "plt.plot(epochs_lin, val_accuracies_lin, marker='o', label='Val Acc')\n",
        "plt.axvline(best_epoch_lin, color='r', linestyle='--',label=f'Best Epoch#{best_epoch_lin}')\n",
        "plt.xlabel('Epoch')\n",
        "plt.ylabel('Validation Accuracy')\n",
        "plt.title('Linear Probe Validation Accuracy')\n",
        "plt.legend()\n",
        "\n",
        "plt.tight_layout()\n",
        "plt.show()\n",
        "\n",
        "# MLP\n",
        "plt.figure(figsize=(12, 5))\n",
        "plt.subplot(1, 2, 1)\n",
        "plt.plot(epochs_mlp, train_losses_mlp, marker='o', label='Train Loss')\n",
        "plt.axvline(best_epoch_mlp, color='r', linestyle='--')\n",
        "plt.xlabel('Epoch')\n",
        "plt.ylabel('Loss')\n",
        "plt.title('MLP Probe Training Loss')\n",
        "plt.legend()\n",
        "\n",
        "plt.subplot(1, 2, 2)\n",
        "plt.plot(epochs_mlp, val_accuracies_mlp, marker='o', label='Val Acc')\n",
        "plt.axvline(best_epoch_mlp, color='r', linestyle='--',label=f'Best Epoch#{best_epoch_mlp}')\n",
        "plt.xlabel('Epoch')\n",
        "plt.ylabel('Validation Accuracy')\n",
        "plt.title('MLP Probe Validation Accuracy')\n",
        "plt.legend()\n",
        "\n",
        "plt.tight_layout()\n",
        "plt.show()"
      ]
    },
    {
      "cell_type": "markdown",
      "metadata": {
        "id": "SlFHMI0zPJkz"
      },
      "source": [
        "2. Masked Autoencoder (MAE)"
      ]
    },
    {
      "cell_type": "markdown",
      "metadata": {},
      "source": [
        "Construct the MAE model"
      ]
    },
    {
      "cell_type": "code",
      "execution_count": 10,
      "metadata": {
        "colab": {
          "base_uri": "https://localhost:8080/",
          "height": 254,
          "referenced_widgets": [
            "c4760a682f3f4ed4a971ec8e2adc8f1d",
            "6ab2716d9d8a4838a55b1b623257cdee",
            "fd52dcb3a5bf4b1091f0933135232856",
            "ab3a33cba47847728c5d2eb8c8d71330",
            "10c5b45bdea14dc38223599e89536f83",
            "6c300cdf9cf84b4591925c6987e033f5",
            "c381ad40967949daaaa5cdb23a28345d",
            "779c8752ad8f4a2eaf82d1b4cce8c433",
            "a0ba95ddd8cb40b6a0baefa9b733afd0",
            "973616549f4c443cae65229892d48c29",
            "f38f590b402344e5b24885c82c108e70",
            "5feb7986f6b045aabb794ad118a782fd",
            "ff922bc6f3a942cc8a43bd8df3c25b70",
            "522889bfe73e463fa71541fa71349b66",
            "42ea6d576a184e9b92da718ade959797",
            "e41dc9370e6f43e1b800469518fc25da",
            "22c3c7cdbeb64ac69282105b1eadd134",
            "8353bdd829484d55a8b389fed23e7510",
            "aa2a021a7f5e406881b57271e305a2e6",
            "7547ca294efb47268f8f9e5530106ceb",
            "342383440b614fb2b5e3898e4a0a6286",
            "43e012b7f3934f4c9bff63be3ae09711",
            "c3c9eb62ad884bb38e3c9d5b60e34b67",
            "717c1faf343547a19f2c26fc72348ed9",
            "fcb96e30c09c4db08db2b1a3414aa8de",
            "cae9fdfdd7a24776938b5655ff57c263",
            "b023bd43bc834ec38051193bb517579d",
            "8a51aebe216149a7ba53b63aebaeae5f",
            "0af1154d7df24113bff504476f2ed702",
            "a6e3d6ac1e074687861a41471a98f35f",
            "beb27feee64b43139298370562efbce0",
            "ba260157660b4940ac7150f9e2668a32",
            "f24e3c28e4e54ba5987d1d13c3f7cc5b"
          ]
        },
        "id": "1ODehO5rPLFS",
        "outputId": "8573f011-dc09-42c0-cd31-469ab20b903d"
      },
      "outputs": [
        {
          "name": "stderr",
          "output_type": "stream",
          "text": [
            "Fast image processor class <class 'transformers.models.vit.image_processing_vit_fast.ViTImageProcessorFast'> is available for this model. Using slow image processor class. To use the fast image processor class set `use_fast=True`.\n"
          ]
        }
      ],
      "source": [
        "from transformers import ViTMAEForPreTraining, AutoImageProcessor\n",
        "\n",
        "torch.cuda.empty_cache()\n",
        "\n",
        "# Load a pre-trained ViT-MAE model (base, patch16) from Hugging Face\n",
        "mae_model = ViTMAEForPreTraining.from_pretrained(\"facebook/vit-mae-base\")\n",
        "mae_model.train().to(device)\n",
        "\n",
        "# Image processor for MAE: handles patch embedding, normalization, etc.\n",
        "processor = AutoImageProcessor.from_pretrained(\"facebook/vit-mae-base\")\n",
        "\n",
        "# Dataset for MAE (we'll use the same images list, as unlabeled data)\n",
        "class PILImageDataset(Dataset):\n",
        "    def __init__(self, files):\n",
        "        self.files = files\n",
        "        self.loader = default_loader\n",
        "    def __len__(self): return len(self.files)\n",
        "    def __getitem__(self, idx):\n",
        "        img = self.loader(self.files[idx]).convert('RGB')\n",
        "        return img\n",
        "\n",
        "mae_dataset = PILImageDataset(image_files)\n",
        "mae_loader = DataLoader(mae_dataset, batch_size=64, shuffle=True, num_workers=num_workers, collate_fn=lambda x: list(x))\n",
        "\n",
        "optimizer_mae = torch.optim.AdamW(mae_model.parameters(), lr=1e-4)"
      ]
    },
    {
      "cell_type": "markdown",
      "metadata": {
        "id": "5AVEbYNWPNZj"
      },
      "source": [
        "Training MAE: At each step, the processor randomly masks patches and returns tensors. The MAE model's forward pass returns loss which compares reconstructed pixels with the original (unmasked) ones. "
      ]
    },
    {
      "cell_type": "code",
      "execution_count": null,
      "metadata": {
        "colab": {
          "base_uri": "https://localhost:8080/"
        },
        "id": "WHnucxwbPQ_P",
        "outputId": "e281f703-4e36-44d7-ee30-d49fe8747a46"
      },
      "outputs": [
        {
          "name": "stderr",
          "output_type": "stream",
          "text": [
            "                                                              \r"
          ]
        },
        {
          "name": "stdout",
          "output_type": "stream",
          "text": [
            "Epoch 1 MAE Loss: 0.2779\n"
          ]
        },
        {
          "name": "stderr",
          "output_type": "stream",
          "text": [
            "                                                              \r"
          ]
        },
        {
          "name": "stdout",
          "output_type": "stream",
          "text": [
            "Epoch 2 MAE Loss: 0.2754\n"
          ]
        },
        {
          "name": "stderr",
          "output_type": "stream",
          "text": [
            "                                                              \r"
          ]
        },
        {
          "name": "stdout",
          "output_type": "stream",
          "text": [
            "Epoch 3 MAE Loss: 0.2757\n"
          ]
        },
        {
          "name": "stderr",
          "output_type": "stream",
          "text": [
            "                                                              \r"
          ]
        },
        {
          "name": "stdout",
          "output_type": "stream",
          "text": [
            "Epoch 4 MAE Loss: 0.2733\n"
          ]
        },
        {
          "name": "stderr",
          "output_type": "stream",
          "text": [
            "                                                              \r"
          ]
        },
        {
          "name": "stdout",
          "output_type": "stream",
          "text": [
            "Epoch 5 MAE Loss: 0.2722\n"
          ]
        },
        {
          "name": "stderr",
          "output_type": "stream",
          "text": [
            "                                                              \r"
          ]
        },
        {
          "name": "stdout",
          "output_type": "stream",
          "text": [
            "Epoch 6 MAE Loss: 0.2710\n"
          ]
        },
        {
          "name": "stderr",
          "output_type": "stream",
          "text": [
            "                                                              \r"
          ]
        },
        {
          "name": "stdout",
          "output_type": "stream",
          "text": [
            "Epoch 7 MAE Loss: 0.2711\n"
          ]
        },
        {
          "name": "stderr",
          "output_type": "stream",
          "text": [
            "                                                              \r"
          ]
        },
        {
          "name": "stdout",
          "output_type": "stream",
          "text": [
            "Epoch 8 MAE Loss: 0.2696\n"
          ]
        },
        {
          "name": "stderr",
          "output_type": "stream",
          "text": [
            "                                                              \r"
          ]
        },
        {
          "name": "stdout",
          "output_type": "stream",
          "text": [
            "Epoch 9 MAE Loss: 0.2686\n"
          ]
        },
        {
          "name": "stderr",
          "output_type": "stream",
          "text": [
            "                                                               \r"
          ]
        },
        {
          "name": "stdout",
          "output_type": "stream",
          "text": [
            "Epoch 10 MAE Loss: 0.2675\n"
          ]
        },
        {
          "name": "stderr",
          "output_type": "stream",
          "text": [
            "                                                               \r"
          ]
        },
        {
          "name": "stdout",
          "output_type": "stream",
          "text": [
            "Epoch 11 MAE Loss: 0.2665\n"
          ]
        },
        {
          "name": "stderr",
          "output_type": "stream",
          "text": [
            "                                                               \r"
          ]
        },
        {
          "name": "stdout",
          "output_type": "stream",
          "text": [
            "Epoch 12 MAE Loss: 0.2656\n"
          ]
        },
        {
          "name": "stderr",
          "output_type": "stream",
          "text": [
            "                                                               \r"
          ]
        },
        {
          "name": "stdout",
          "output_type": "stream",
          "text": [
            "Epoch 13 MAE Loss: 0.2653\n"
          ]
        },
        {
          "name": "stderr",
          "output_type": "stream",
          "text": [
            "                                                               \r"
          ]
        },
        {
          "name": "stdout",
          "output_type": "stream",
          "text": [
            "Epoch 14 MAE Loss: 0.2647\n"
          ]
        },
        {
          "name": "stderr",
          "output_type": "stream",
          "text": [
            "                                                               \r"
          ]
        },
        {
          "name": "stdout",
          "output_type": "stream",
          "text": [
            "Epoch 15 MAE Loss: 0.2634\n"
          ]
        },
        {
          "name": "stderr",
          "output_type": "stream",
          "text": [
            "                                                               \r"
          ]
        },
        {
          "name": "stdout",
          "output_type": "stream",
          "text": [
            "Epoch 16 MAE Loss: 0.2618\n"
          ]
        },
        {
          "name": "stderr",
          "output_type": "stream",
          "text": [
            "                                                               \r"
          ]
        },
        {
          "name": "stdout",
          "output_type": "stream",
          "text": [
            "Epoch 17 MAE Loss: 0.2621\n"
          ]
        },
        {
          "name": "stderr",
          "output_type": "stream",
          "text": [
            "                                                               \r"
          ]
        },
        {
          "name": "stdout",
          "output_type": "stream",
          "text": [
            "Epoch 18 MAE Loss: 0.2610\n"
          ]
        },
        {
          "name": "stderr",
          "output_type": "stream",
          "text": [
            "                                                               \r"
          ]
        },
        {
          "name": "stdout",
          "output_type": "stream",
          "text": [
            "Epoch 19 MAE Loss: 0.2608\n"
          ]
        },
        {
          "name": "stderr",
          "output_type": "stream",
          "text": [
            "                                                               \r"
          ]
        },
        {
          "name": "stdout",
          "output_type": "stream",
          "text": [
            "Epoch 20 MAE Loss: 0.2599\n",
            "Best MAE Loss: 0.2599 at epoch 20\n"
          ]
        }
      ],
      "source": [
        "# Train MAE\n",
        "train_losses = []\n",
        "best_loss = float('inf')\n",
        "best_epoch = -1\n",
        "best_state = None\n",
        "counter = 0\n",
        "for epoch in range(20):\n",
        "    total_loss = 0.0\n",
        "    for imgs in tqdm(mae_loader, desc=f\"MAE Epoch {epoch+1}\", leave=False):\n",
        "        # imgs is a list of PIL images\n",
        "        inputs = processor(images=imgs, return_tensors=\"pt\").to(device)\n",
        "        outputs = mae_model(**inputs)\n",
        "        loss = outputs.loss  # MAE reconstruction loss\n",
        "        optimizer_mae.zero_grad()\n",
        "        loss.backward()\n",
        "        optimizer_mae.step()\n",
        "        total_loss += loss.item() * len(imgs)\n",
        "    avg_loss = total_loss / len(mae_dataset)\n",
        "    train_losses.append(avg_loss)\n",
        "    print(f\"Epoch {epoch+1} MAE Loss: {avg_loss:.4f}\")\n",
        "\n",
        "    if avg_loss < best_loss:\n",
        "        best_loss = avg_loss\n",
        "        best_epoch = epoch\n",
        "        best_state = {k: v.cpu().clone() for k, v in mae_model.state_dict().items()}\n",
        "        counter = 0\n",
        "    else:\n",
        "        counter += 1\n",
        "        if counter >= patience:\n",
        "            print(f\"Early stopping at epoch {epoch} (no improvement for {patience} epochs).\")\n",
        "            break\n",
        "\n",
        "print(f\"Best MAE Loss: {best_loss:.4f} at epoch {best_epoch}\")\n",
        "\n",
        "if best_state is not None:\n",
        "    mae_model.load_state_dict(best_state)\n",
        "    \n",
        "# Plot training loss\n",
        "plt.figure(figsize=(6, 4))\n",
        "plt.plot(range(1, len(train_losses) + 1), train_losses, marker='o')\n",
        "plt.axvline(best_epoch, color='r', linestyle='--', label=f\"Best Epoch #{best_epoch+1}\")\n",
        "plt.xlabel('Epoch')\n",
        "plt.ylabel('MAE Loss')\n",
        "plt.title('MAE Training Loss with Early Stopping')\n",
        "plt.legend()\n",
        "plt.tight_layout()\n",
        "plt.show()"
      ]
    },
    {
      "cell_type": "markdown",
      "metadata": {
        "id": "4L2p2VdBPUkZ"
      },
      "source": [
        "After training, we discard the decoder and use the ViT encoder. We extract the [CLS] token embedding (from last_hidden_state[:,0]) as a feature vector for each image. We freeze the ViT parameters and again train a linear and an MLP classifier on these features."
      ]
    },
    {
      "cell_type": "code",
      "execution_count": null,
      "metadata": {
        "colab": {
          "base_uri": "https://localhost:8080/"
        },
        "id": "zZsFDRncPV7u",
        "outputId": "c00d2a3d-4fc5-41c4-cbd0-af2b76deffb0"
      },
      "outputs": [
        {
          "name": "stdout",
          "output_type": "stream",
          "text": [
            "MAE Linear probe accuracy: 48.1%\n",
            "MAE MLP classifier accuracy: 47.9%\n"
          ]
        }
      ],
      "source": [
        "# Freeze MAE model encoder for linear probe\n",
        "mae_model.eval()\n",
        "for p in mae_model.parameters():\n",
        "    p.requires_grad = False\n",
        "\n",
        "# Define feature extractor using MAE encoder\n",
        "def extract_mae_features(model, processor, images):\n",
        "    inputs = processor(images=images, return_tensors=\"pt\").to(device)\n",
        "    with torch.no_grad():\n",
        "        # Access the encoder part of the MAE model\n",
        "        outputs = model.vit(**inputs)\n",
        "    # ViT [CLS] token embedding\n",
        "    feats = outputs.last_hidden_state[:, 0]\n",
        "    return feats\n",
        "\n",
        "# Prepare DataLoader for classification using processor inside loop\n",
        "train_loader_mae = DataLoader(train_files, batch_size=16, shuffle=True)\n",
        "test_loader_mae  = DataLoader(test_files,  batch_size=32, shuffle=False)\n",
        "\n",
        "# Train linear classifier on MAE features\n",
        "linear_cls_mae = LinearClassifier(feat_dim=768, num_classes=102).to(device)\n",
        "optimizer_lin_mae = torch.optim.Adam(linear_cls_mae.parameters(), lr=1e-3)\n",
        "criterion = nn.CrossEntropyLoss()\n",
        "\n",
        "for epoch in range(5):\n",
        "    linear_cls_mae.train()\n",
        "    for imgs, labs in train_loader:\n",
        "        imgs, labs = imgs.to(device), labs.to(device)\n",
        "        # We actually need PIL images for processor, so we skip using train_loader here.\n",
        "        pass\n",
        "\n",
        "# Prepare feature extraction for MAE on training and test images\n",
        "# We will process images batchwise through processor inside loop\n",
        "\n",
        "# Convert file paths to PIL images on the fly\n",
        "class PILDataLoader:\n",
        "    def __init__(self, files, labels=None, batch_size=16, shuffle=False):\n",
        "        self.files = files\n",
        "        self.labels = labels\n",
        "        self.batch_size = batch_size\n",
        "        self.shuffle = shuffle\n",
        "    def __iter__(self):\n",
        "        indices = list(range(len(self.files)))\n",
        "        if self.shuffle:\n",
        "            random.shuffle(indices)\n",
        "        for i in range(0, len(indices), self.batch_size):\n",
        "            batch_idx = indices[i:i+self.batch_size]\n",
        "            imgs = [default_loader(self.files[j]).convert('RGB') for j in batch_idx]\n",
        "            if self.labels is not None:\n",
        "                labs = torch.tensor([self.labels[j]-1 for j in batch_idx], dtype=torch.long)\n",
        "                yield imgs, labs\n",
        "            else:\n",
        "                yield imgs\n",
        "\n",
        "train_loader_mae = PILDataLoader(train_files, train_labels, batch_size=16, shuffle=True)\n",
        "test_loader_mae  = PILDataLoader(test_files, test_labels, batch_size=32, shuffle=False)\n",
        "\n",
        "# Linear classifier for MAE features (hidden size = 768 for ViT-base)\n",
        "linear_cls_mae = LinearClassifier(feat_dim=768, num_classes=102).to(device)\n",
        "optimizer_lin_mae = torch.optim.Adam(linear_cls_mae.parameters(), lr=1e-3)\n",
        "\n",
        "for epoch in range(5):\n",
        "    linear_cls_mae.train()\n",
        "    for imgs, labs in train_loader_mae:\n",
        "        feats = extract_mae_features(mae_model, processor, imgs)  # [batch,768]\n",
        "        feats = feats.to(device)\n",
        "        labs = labs.to(device)\n",
        "        logits = linear_cls_mae(feats)\n",
        "        loss = criterion(logits, labs)\n",
        "        optimizer_lin_mae.zero_grad()\n",
        "        loss.backward()\n",
        "        optimizer_lin_mae.step()\n",
        "\n",
        "# Evaluate linear probe\n",
        "linear_cls_mae.eval()\n",
        "correct = 0\n",
        "total = 0\n",
        "with torch.no_grad():\n",
        "    for imgs, labs in test_loader_mae:\n",
        "        feats = extract_mae_features(mae_model, processor, imgs).to(device)\n",
        "        labs = labs.to(device)\n",
        "        preds = linear_cls_mae(feats).argmax(dim=1)\n",
        "        correct += (preds == labs).sum().item()\n",
        "        total += labs.size(0)\n",
        "print(f\"MAE Linear probe accuracy: {100*correct/total:.1f}%\")\n",
        "\n",
        "# MLP classifier for MAE features\n",
        "mlp_cls_mae = MLPClassifier(feat_dim=768, num_classes=102).to(device)\n",
        "optimizer_mlp_mae = torch.optim.Adam(mlp_cls_mae.parameters(), lr=1e-3)\n",
        "\n",
        "for epoch in range(5):\n",
        "    mlp_cls_mae.train()\n",
        "    for imgs, labs in train_loader_mae:\n",
        "        feats = extract_mae_features(mae_model, processor, imgs).to(device)\n",
        "        labs = labs.to(device)\n",
        "        logits = mlp_cls_mae(feats)\n",
        "        loss = criterion(logits, labs)\n",
        "        optimizer_mlp_mae.zero_grad()\n",
        "        loss.backward()\n",
        "        optimizer_mlp_mae.step()\n",
        "\n",
        "# Evaluate MLP probe\n",
        "mlp_cls_mae.eval()\n",
        "correct = 0\n",
        "total = 0\n",
        "with torch.no_grad():\n",
        "    for imgs, labs in test_loader_mae:\n",
        "        feats = extract_mae_features(mae_model, processor, imgs).to(device)\n",
        "        labs = labs.to(device)\n",
        "        preds = mlp_cls_mae(feats).argmax(dim=1)\n",
        "        correct += (preds == labs).sum().item()\n",
        "        total += labs.size(0)\n",
        "print(f\"MAE MLP classifier accuracy: {100*correct/total:.1f}%\")"
      ]
    }
  ],
  "metadata": {
    "language_info": {
      "name": "python"
    }
  },
  "nbformat": 4,
  "nbformat_minor": 5
}
